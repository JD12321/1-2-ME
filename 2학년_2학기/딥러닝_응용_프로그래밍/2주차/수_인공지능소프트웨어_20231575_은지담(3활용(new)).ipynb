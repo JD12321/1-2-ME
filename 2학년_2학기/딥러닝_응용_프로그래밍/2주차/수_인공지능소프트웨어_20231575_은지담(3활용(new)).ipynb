{
  "nbformat": 4,
  "nbformat_minor": 0,
  "metadata": {
    "colab": {
      "provenance": []
    },
    "kernelspec": {
      "name": "python3",
      "display_name": "Python 3"
    },
    "language_info": {
      "name": "python"
    }
  },
  "cells": [
    {
      "cell_type": "markdown",
      "source": [
        "#### 005_KNN_p002.ipynb"
      ],
      "metadata": {
        "id": "jFHRIWwRBQFl"
      }
    },
    {
      "cell_type": "markdown",
      "source": [
        "# **교재**"
      ],
      "metadata": {
        "id": "83ZGw-ZAd-wI"
      }
    },
    {
      "cell_type": "code",
      "execution_count": 677,
      "metadata": {
        "id": "uPqRjNWP9O_C"
      },
      "outputs": [],
      "source": [
        "# library call\n",
        "import numpy as np\n",
        "import pandas as pd\n",
        "import matplotlib.pyplot as plt\n",
        "from sklearn import metrics\n",
        "\n",
        "names = ['sepal-length', 'sepal-width', 'petal-length', 'petal-width', 'species']\n",
        "\n",
        "dataset = pd.read_csv('/content/dmu_data/Iris.csv', names=names)"
      ]
    },
    {
      "cell_type": "code",
      "source": [
        "# training & testdataest\n",
        "X = dataset.iloc[1:, :-1].values  # 모든 행은 사용하지만 열(칼럼)은 뒤에서 하나를 뺀 값을 가져와서 X에 저장\n",
        "y = dataset.iloc[1:, 4].values    # 모든 행은 사용하지만 열은 앞에서 다서 번째 값만 가져와서 y에 저장 [시험 문제, 0부터 시작]\n",
        "\n",
        "# training & testdataset raytio\n",
        "from sklearn.model_selection import train_test_split\n",
        "X_train, X_test, y_train, y_test = train_test_split(X, y, test_size=0.20)  # testdataset 20%\n",
        "\n",
        "from sklearn.preprocessing import StandardScaler\n",
        "s = StandardScaler()\n",
        "s.fit(X_train)\n",
        "\n",
        "X_train = s.transform(X_train)\n",
        "X_test = s.transform(X_test)"
      ],
      "metadata": {
        "id": "LhP7K1HcDYDS"
      },
      "execution_count": 678,
      "outputs": []
    },
    {
      "cell_type": "code",
      "source": [
        "# create model : KNN\n",
        "from sklearn.neighbors import KNeighborsClassifier\n",
        "knn = KNeighborsClassifier(n_neighbors=50)\n",
        "knn.fit(X_train, y_train)"
      ],
      "metadata": {
        "colab": {
          "base_uri": "https://localhost:8080/",
          "height": 74
        },
        "id": "GXgG9eSKGlW5",
        "outputId": "4a070a7a-083b-4b4e-a158-cf523d2eab11"
      },
      "execution_count": 679,
      "outputs": [
        {
          "output_type": "execute_result",
          "data": {
            "text/plain": [
              "KNeighborsClassifier(n_neighbors=50)"
            ],
            "text/html": [
              "<style>#sk-container-id-136 {color: black;}#sk-container-id-136 pre{padding: 0;}#sk-container-id-136 div.sk-toggleable {background-color: white;}#sk-container-id-136 label.sk-toggleable__label {cursor: pointer;display: block;width: 100%;margin-bottom: 0;padding: 0.3em;box-sizing: border-box;text-align: center;}#sk-container-id-136 label.sk-toggleable__label-arrow:before {content: \"▸\";float: left;margin-right: 0.25em;color: #696969;}#sk-container-id-136 label.sk-toggleable__label-arrow:hover:before {color: black;}#sk-container-id-136 div.sk-estimator:hover label.sk-toggleable__label-arrow:before {color: black;}#sk-container-id-136 div.sk-toggleable__content {max-height: 0;max-width: 0;overflow: hidden;text-align: left;background-color: #f0f8ff;}#sk-container-id-136 div.sk-toggleable__content pre {margin: 0.2em;color: black;border-radius: 0.25em;background-color: #f0f8ff;}#sk-container-id-136 input.sk-toggleable__control:checked~div.sk-toggleable__content {max-height: 200px;max-width: 100%;overflow: auto;}#sk-container-id-136 input.sk-toggleable__control:checked~label.sk-toggleable__label-arrow:before {content: \"▾\";}#sk-container-id-136 div.sk-estimator input.sk-toggleable__control:checked~label.sk-toggleable__label {background-color: #d4ebff;}#sk-container-id-136 div.sk-label input.sk-toggleable__control:checked~label.sk-toggleable__label {background-color: #d4ebff;}#sk-container-id-136 input.sk-hidden--visually {border: 0;clip: rect(1px 1px 1px 1px);clip: rect(1px, 1px, 1px, 1px);height: 1px;margin: -1px;overflow: hidden;padding: 0;position: absolute;width: 1px;}#sk-container-id-136 div.sk-estimator {font-family: monospace;background-color: #f0f8ff;border: 1px dotted black;border-radius: 0.25em;box-sizing: border-box;margin-bottom: 0.5em;}#sk-container-id-136 div.sk-estimator:hover {background-color: #d4ebff;}#sk-container-id-136 div.sk-parallel-item::after {content: \"\";width: 100%;border-bottom: 1px solid gray;flex-grow: 1;}#sk-container-id-136 div.sk-label:hover label.sk-toggleable__label {background-color: #d4ebff;}#sk-container-id-136 div.sk-serial::before {content: \"\";position: absolute;border-left: 1px solid gray;box-sizing: border-box;top: 0;bottom: 0;left: 50%;z-index: 0;}#sk-container-id-136 div.sk-serial {display: flex;flex-direction: column;align-items: center;background-color: white;padding-right: 0.2em;padding-left: 0.2em;position: relative;}#sk-container-id-136 div.sk-item {position: relative;z-index: 1;}#sk-container-id-136 div.sk-parallel {display: flex;align-items: stretch;justify-content: center;background-color: white;position: relative;}#sk-container-id-136 div.sk-item::before, #sk-container-id-136 div.sk-parallel-item::before {content: \"\";position: absolute;border-left: 1px solid gray;box-sizing: border-box;top: 0;bottom: 0;left: 50%;z-index: -1;}#sk-container-id-136 div.sk-parallel-item {display: flex;flex-direction: column;z-index: 1;position: relative;background-color: white;}#sk-container-id-136 div.sk-parallel-item:first-child::after {align-self: flex-end;width: 50%;}#sk-container-id-136 div.sk-parallel-item:last-child::after {align-self: flex-start;width: 50%;}#sk-container-id-136 div.sk-parallel-item:only-child::after {width: 0;}#sk-container-id-136 div.sk-dashed-wrapped {border: 1px dashed gray;margin: 0 0.4em 0.5em 0.4em;box-sizing: border-box;padding-bottom: 0.4em;background-color: white;}#sk-container-id-136 div.sk-label label {font-family: monospace;font-weight: bold;display: inline-block;line-height: 1.2em;}#sk-container-id-136 div.sk-label-container {text-align: center;}#sk-container-id-136 div.sk-container {/* jupyter's `normalize.less` sets `[hidden] { display: none; }` but bootstrap.min.css set `[hidden] { display: none !important; }` so we also need the `!important` here to be able to override the default hidden behavior on the sphinx rendered scikit-learn.org. See: https://github.com/scikit-learn/scikit-learn/issues/21755 */display: inline-block !important;position: relative;}#sk-container-id-136 div.sk-text-repr-fallback {display: none;}</style><div id=\"sk-container-id-136\" class=\"sk-top-container\"><div class=\"sk-text-repr-fallback\"><pre>KNeighborsClassifier(n_neighbors=50)</pre><b>In a Jupyter environment, please rerun this cell to show the HTML representation or trust the notebook. <br />On GitHub, the HTML representation is unable to render, please try loading this page with nbviewer.org.</b></div><div class=\"sk-container\" hidden><div class=\"sk-item\"><div class=\"sk-estimator sk-toggleable\"><input class=\"sk-toggleable__control sk-hidden--visually\" id=\"sk-estimator-id-136\" type=\"checkbox\" checked><label for=\"sk-estimator-id-136\" class=\"sk-toggleable__label sk-toggleable__label-arrow\">KNeighborsClassifier</label><div class=\"sk-toggleable__content\"><pre>KNeighborsClassifier(n_neighbors=50)</pre></div></div></div></div></div>"
            ]
          },
          "metadata": {},
          "execution_count": 679
        }
      ]
    },
    {
      "cell_type": "code",
      "source": [
        "# model accuary\n",
        "from sklearn.metrics import accuracy_score\n",
        "y_pred = knn.predict(X_test)\n",
        "print(\"정확도: {}\".format(accuracy_score(y_test, y_pred)))"
      ],
      "metadata": {
        "colab": {
          "base_uri": "https://localhost:8080/"
        },
        "id": "tB82YJsnG8Up",
        "outputId": "313e33db-c0e3-4fb2-9783-557ad81d58b0"
      },
      "execution_count": 680,
      "outputs": [
        {
          "output_type": "stream",
          "name": "stdout",
          "text": [
            "정확도: 0.8666666666666667\n"
          ]
        }
      ]
    },
    {
      "cell_type": "markdown",
      "source": [
        "---\n",
        "# **활용**"
      ],
      "metadata": {
        "id": "qDxCQ2IAIxJH"
      }
    },
    {
      "cell_type": "code",
      "source": [
        "k = 50\n",
        "acc_array = np.zeros(k)\n",
        "for k in np.arange(5, k+1, 2):\n",
        "  classifier = KNeighborsClassifier(n_neighbors=k).fit(X_train, y_train)\n",
        "  y_pred = classifier.predict(X_test)\n",
        "  acc = metrics.accuracy_score(y_test, y_pred)\n",
        "  acc_array[k-1] = acc\n",
        "\n",
        "max_acc = np.amax(acc_array)\n",
        "acc_list = list(acc_array)\n",
        "k = acc_list.index(max_acc)\n",
        "print(\"정확도\", max_acc, \"으로 최적의 k는\", k+1, \"입니다.\")"
      ],
      "metadata": {
        "colab": {
          "base_uri": "https://localhost:8080/"
        },
        "id": "slOG9zeeIq9_",
        "outputId": "552615b5-0650-41a2-8b21-e4b45888cb6e"
      },
      "execution_count": 681,
      "outputs": [
        {
          "output_type": "stream",
          "name": "stdout",
          "text": [
            "정확도 0.9666666666666667 으로 최적의 k는 5 입니다.\n"
          ]
        }
      ]
    },
    {
      "cell_type": "markdown",
      "source": [
        "---\n",
        "# **수업 이후 추가 활용 과제**"
      ],
      "metadata": {
        "id": "_ZbosUA2Nidm"
      }
    },
    {
      "cell_type": "code",
      "source": [
        "# library call\n",
        "import numpy as np\n",
        "import pandas as pd\n",
        "import matplotlib.pyplot as plt\n",
        "from sklearn import metrics\n",
        "\n",
        "names = ['sepal-length', 'sepal-width', 'petal-length', 'petal-width', 'species']\n",
        "\n",
        "dataset = pd.read_csv('/content/dmu_data/Iris.csv', names=names)"
      ],
      "metadata": {
        "id": "ga7h1Lu0ORX1"
      },
      "execution_count": 682,
      "outputs": []
    },
    {
      "cell_type": "code",
      "source": [
        "# training & testdataest\n",
        "X = dataset.iloc[1:, :-1].values\n",
        "y = dataset.iloc[1:, 4].values\n",
        "\n",
        "# training & testdataset raytio\n",
        "from sklearn.model_selection import train_test_split\n",
        "X_train, X_test, y_train, y_test = train_test_split(X, y, test_size=0.17)  # testdataset 20% -> 17% (일반화 성능 향상을 위한 시도)\n",
        "\n",
        "# StandardScaler -> MinMaxScaler (기존 방식 보다 더 좋은 방식을 찾기 위해 변경해서 테스트 진행)\n",
        "from sklearn.preprocessing import MinMaxScaler\n",
        "s = MinMaxScaler()\n",
        "s.fit(X_train)\n",
        "\n",
        "X_train = s.transform(X_train)\n",
        "X_test = s.transform(X_test)"
      ],
      "metadata": {
        "id": "gMepSvc7OTT3"
      },
      "execution_count": 683,
      "outputs": []
    },
    {
      "cell_type": "markdown",
      "source": [
        "---\n",
        "\n",
        "### **차이점 정리**\n",
        "- **StandardScaler**: 데이터를 **평균 0**과 **표준편차 1**로 맞추어, 데이터가 평균에서 얼마나 떨어져 있는지 비교할 수 있게 합니다. 주로 데이터가 **정규분포**(평균을 중심으로 대칭적으로 퍼진 데이터)일 때 사용합니다.\n",
        "  \n",
        "- **MinMaxScaler**: 데이터를 **0과 1 사이**의 값으로 맞추어, 데이터의 범위를 일관성 있게 유지하면서 **최소값과 최대값**을 기준으로 변환합니다. 주로 데이터가 **일정한 범위 안에 있을 때** 사용합니다.\n",
        "\n",
        "---"
      ],
      "metadata": {
        "id": "5IKVAS6dmQ0A"
      }
    },
    {
      "cell_type": "code",
      "source": [
        "# create model : KNN\n",
        "from sklearn.neighbors import KNeighborsClassifier\n",
        "knn = KNeighborsClassifier(n_neighbors=50)\n",
        "knn.fit(X_train, y_train)"
      ],
      "metadata": {
        "colab": {
          "base_uri": "https://localhost:8080/",
          "height": 74
        },
        "id": "Hq9SflyedWi7",
        "outputId": "4cd36062-ce17-4897-f78b-2ece0a4d7484"
      },
      "execution_count": 684,
      "outputs": [
        {
          "output_type": "execute_result",
          "data": {
            "text/plain": [
              "KNeighborsClassifier(n_neighbors=50)"
            ],
            "text/html": [
              "<style>#sk-container-id-137 {color: black;}#sk-container-id-137 pre{padding: 0;}#sk-container-id-137 div.sk-toggleable {background-color: white;}#sk-container-id-137 label.sk-toggleable__label {cursor: pointer;display: block;width: 100%;margin-bottom: 0;padding: 0.3em;box-sizing: border-box;text-align: center;}#sk-container-id-137 label.sk-toggleable__label-arrow:before {content: \"▸\";float: left;margin-right: 0.25em;color: #696969;}#sk-container-id-137 label.sk-toggleable__label-arrow:hover:before {color: black;}#sk-container-id-137 div.sk-estimator:hover label.sk-toggleable__label-arrow:before {color: black;}#sk-container-id-137 div.sk-toggleable__content {max-height: 0;max-width: 0;overflow: hidden;text-align: left;background-color: #f0f8ff;}#sk-container-id-137 div.sk-toggleable__content pre {margin: 0.2em;color: black;border-radius: 0.25em;background-color: #f0f8ff;}#sk-container-id-137 input.sk-toggleable__control:checked~div.sk-toggleable__content {max-height: 200px;max-width: 100%;overflow: auto;}#sk-container-id-137 input.sk-toggleable__control:checked~label.sk-toggleable__label-arrow:before {content: \"▾\";}#sk-container-id-137 div.sk-estimator input.sk-toggleable__control:checked~label.sk-toggleable__label {background-color: #d4ebff;}#sk-container-id-137 div.sk-label input.sk-toggleable__control:checked~label.sk-toggleable__label {background-color: #d4ebff;}#sk-container-id-137 input.sk-hidden--visually {border: 0;clip: rect(1px 1px 1px 1px);clip: rect(1px, 1px, 1px, 1px);height: 1px;margin: -1px;overflow: hidden;padding: 0;position: absolute;width: 1px;}#sk-container-id-137 div.sk-estimator {font-family: monospace;background-color: #f0f8ff;border: 1px dotted black;border-radius: 0.25em;box-sizing: border-box;margin-bottom: 0.5em;}#sk-container-id-137 div.sk-estimator:hover {background-color: #d4ebff;}#sk-container-id-137 div.sk-parallel-item::after {content: \"\";width: 100%;border-bottom: 1px solid gray;flex-grow: 1;}#sk-container-id-137 div.sk-label:hover label.sk-toggleable__label {background-color: #d4ebff;}#sk-container-id-137 div.sk-serial::before {content: \"\";position: absolute;border-left: 1px solid gray;box-sizing: border-box;top: 0;bottom: 0;left: 50%;z-index: 0;}#sk-container-id-137 div.sk-serial {display: flex;flex-direction: column;align-items: center;background-color: white;padding-right: 0.2em;padding-left: 0.2em;position: relative;}#sk-container-id-137 div.sk-item {position: relative;z-index: 1;}#sk-container-id-137 div.sk-parallel {display: flex;align-items: stretch;justify-content: center;background-color: white;position: relative;}#sk-container-id-137 div.sk-item::before, #sk-container-id-137 div.sk-parallel-item::before {content: \"\";position: absolute;border-left: 1px solid gray;box-sizing: border-box;top: 0;bottom: 0;left: 50%;z-index: -1;}#sk-container-id-137 div.sk-parallel-item {display: flex;flex-direction: column;z-index: 1;position: relative;background-color: white;}#sk-container-id-137 div.sk-parallel-item:first-child::after {align-self: flex-end;width: 50%;}#sk-container-id-137 div.sk-parallel-item:last-child::after {align-self: flex-start;width: 50%;}#sk-container-id-137 div.sk-parallel-item:only-child::after {width: 0;}#sk-container-id-137 div.sk-dashed-wrapped {border: 1px dashed gray;margin: 0 0.4em 0.5em 0.4em;box-sizing: border-box;padding-bottom: 0.4em;background-color: white;}#sk-container-id-137 div.sk-label label {font-family: monospace;font-weight: bold;display: inline-block;line-height: 1.2em;}#sk-container-id-137 div.sk-label-container {text-align: center;}#sk-container-id-137 div.sk-container {/* jupyter's `normalize.less` sets `[hidden] { display: none; }` but bootstrap.min.css set `[hidden] { display: none !important; }` so we also need the `!important` here to be able to override the default hidden behavior on the sphinx rendered scikit-learn.org. See: https://github.com/scikit-learn/scikit-learn/issues/21755 */display: inline-block !important;position: relative;}#sk-container-id-137 div.sk-text-repr-fallback {display: none;}</style><div id=\"sk-container-id-137\" class=\"sk-top-container\"><div class=\"sk-text-repr-fallback\"><pre>KNeighborsClassifier(n_neighbors=50)</pre><b>In a Jupyter environment, please rerun this cell to show the HTML representation or trust the notebook. <br />On GitHub, the HTML representation is unable to render, please try loading this page with nbviewer.org.</b></div><div class=\"sk-container\" hidden><div class=\"sk-item\"><div class=\"sk-estimator sk-toggleable\"><input class=\"sk-toggleable__control sk-hidden--visually\" id=\"sk-estimator-id-137\" type=\"checkbox\" checked><label for=\"sk-estimator-id-137\" class=\"sk-toggleable__label sk-toggleable__label-arrow\">KNeighborsClassifier</label><div class=\"sk-toggleable__content\"><pre>KNeighborsClassifier(n_neighbors=50)</pre></div></div></div></div></div>"
            ]
          },
          "metadata": {},
          "execution_count": 684
        }
      ]
    },
    {
      "cell_type": "code",
      "source": [
        "# model accuary\n",
        "from sklearn.metrics import accuracy_score\n",
        "y_pred = knn.predict(X_test)\n",
        "print(\"정확도: {}\".format(accuracy_score(y_test, y_pred)))"
      ],
      "metadata": {
        "colab": {
          "base_uri": "https://localhost:8080/"
        },
        "id": "RI4gHj8EdXYe",
        "outputId": "a16b46d0-0bde-4879-c772-c951b00efc6c"
      },
      "execution_count": 685,
      "outputs": [
        {
          "output_type": "stream",
          "name": "stdout",
          "text": [
            "정확도: 0.8846153846153846\n"
          ]
        }
      ]
    },
    {
      "cell_type": "code",
      "source": [
        "# 더 넓은 범위에서 더 세밀하게 테스트 하기 위해 수정\n",
        "k = 100 # k=50 -> k=100\n",
        "acc_array = np.zeros(k)\n",
        "for k in np.arange(1, k+1):  # (5, k+1, 2) -> (1, k+1)\n",
        "  classifier = KNeighborsClassifier(n_neighbors=k).fit(X_train, y_train)\n",
        "  y_pred = classifier.predict(X_test)\n",
        "  acc = metrics.accuracy_score(y_test, y_pred)\n",
        "  acc_array[k-1] = acc\n",
        "\n",
        "max_acc = np.amax(acc_array)\n",
        "acc_list = list(acc_array)\n",
        "k = acc_list.index(max_acc)\n",
        "print(\"정확도\", max_acc, \"으로 최적의 k는\", k+1, \"입니다.\")"
      ],
      "metadata": {
        "colab": {
          "base_uri": "https://localhost:8080/"
        },
        "id": "l9NCSMAGgeW1",
        "outputId": "276f90fe-d0b6-4e4a-fc01-654ad4cb7df8"
      },
      "execution_count": 686,
      "outputs": [
        {
          "output_type": "stream",
          "name": "stdout",
          "text": [
            "정확도 1.0 으로 최적의 k는 9 입니다.\n"
          ]
        }
      ]
    },
    {
      "cell_type": "markdown",
      "source": [
        "# **결과**\n",
        "- 수업 시간에 테스트한 방식 보다 평균 적으로 더 높은 정확도가 나오는 것 같음\n",
        "- 정확도 테스트 방법: 수업 시간 때와 같이 계속 실행 해 보며, 정확도 관찰"
      ],
      "metadata": {
        "id": "DoY7GHKiib94"
      }
    }
  ]
}