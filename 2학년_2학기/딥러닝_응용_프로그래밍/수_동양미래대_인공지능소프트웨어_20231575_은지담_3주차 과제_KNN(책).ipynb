{
  "cells": [
    {
      "cell_type": "markdown",
      "metadata": {
        "id": "RmoVJ8M62TmR"
      },
      "source": [
        "# KNN(K-Nearest Neighbors)\n"
      ]
    },
    {
      "cell_type": "markdown",
      "metadata": {
        "id": "LYs5dUq92bph"
      },
      "source": [
        "## import library & read csv data"
      ]
    },
    {
      "cell_type": "code",
      "execution_count": 205,
      "metadata": {
        "id": "68Ud4fFy174v"
      },
      "outputs": [],
      "source": [
        "# library & data\n",
        "import numpy as np\n",
        "import pandas as pd\n",
        "import matplotlib.pyplot as plt\n",
        "from sklearn import metrics\n",
        "# from sklearn.datasets import load_iris\n",
        "# iris = load_iris()\n",
        "\n",
        "# column of dataset\n",
        "#names = ['Sepal.Length', 'Sepal.Width', 'Petal.Length', 'Petal.Width', 'Species']\n",
        "#dataset = pd.read_csv('/content/dgu_data/Iris.csv')\n",
        "\n",
        "#== [pd.read_csv] 부분이 빈칸으로 되어 있고 쓰는 시험 문제 나옴 ==#\n",
        "dataset = pd.read_csv('../content/sample_data/Data_all/Iris.csv')"
      ]
    },
    {
      "cell_type": "markdown",
      "metadata": {
        "id": "G2FNskF73xcd"
      },
      "source": [
        "## search of data"
      ]
    },
    {
      "cell_type": "code",
      "execution_count": 206,
      "metadata": {
        "colab": {
          "base_uri": "https://localhost:8080/",
          "height": 272
        },
        "id": "40x3_3zE3y7J",
        "outputId": "4535dc48-3181-4bb8-97a0-57e5ab05f099"
      },
      "outputs": [
        {
          "data": {
            "text/html": [
              "<div>\n",
              "<style scoped>\n",
              "    .dataframe tbody tr th:only-of-type {\n",
              "        vertical-align: middle;\n",
              "    }\n",
              "\n",
              "    .dataframe tbody tr th {\n",
              "        vertical-align: top;\n",
              "    }\n",
              "\n",
              "    .dataframe thead th {\n",
              "        text-align: right;\n",
              "    }\n",
              "</style>\n",
              "<table border=\"1\" class=\"dataframe\">\n",
              "  <thead>\n",
              "    <tr style=\"text-align: right;\">\n",
              "      <th></th>\n",
              "      <th>0</th>\n",
              "    </tr>\n",
              "  </thead>\n",
              "  <tbody>\n",
              "    <tr>\n",
              "      <th>Id</th>\n",
              "      <td>0</td>\n",
              "    </tr>\n",
              "    <tr>\n",
              "      <th>sepal-length</th>\n",
              "      <td>0</td>\n",
              "    </tr>\n",
              "    <tr>\n",
              "      <th>sepal-width</th>\n",
              "      <td>0</td>\n",
              "    </tr>\n",
              "    <tr>\n",
              "      <th>petal-length</th>\n",
              "      <td>0</td>\n",
              "    </tr>\n",
              "    <tr>\n",
              "      <th>petal-width</th>\n",
              "      <td>0</td>\n",
              "    </tr>\n",
              "    <tr>\n",
              "      <th>species</th>\n",
              "      <td>0</td>\n",
              "    </tr>\n",
              "  </tbody>\n",
              "</table>\n",
              "</div><br><label><b>dtype:</b> int64</label>"
            ],
            "text/plain": [
              "Id              0\n",
              "sepal-length    0\n",
              "sepal-width     0\n",
              "petal-length    0\n",
              "petal-width     0\n",
              "species         0\n",
              "dtype: int64"
            ]
          },
          "execution_count": 206,
          "metadata": {},
          "output_type": "execute_result"
        }
      ],
      "source": [
        "#== 아래 10개 코드는 시험에 많이 나옴 (암기) ==#\n",
        "\n",
        "#dataset\n",
        "#print(dataset)\n",
        "#dataset.info()\n",
        "#dataset.describe()\n",
        "#dataset.head(5)\n",
        "#dataset.tail()\n",
        "#dataset.columns      # dataset.rows는 없음\n",
        "#dataset.shape\n",
        "#dataset.dtypes\n",
        "dataset.isnull().sum()  # null 값이 없는게 좋은 데이터임"
      ]
    },
    {
      "cell_type": "code",
      "execution_count": 207,
      "metadata": {
        "colab": {
          "base_uri": "https://localhost:8080/"
        },
        "id": "wOD9NabI4Q9w",
        "outputId": "c31660c1-1936-4fe4-c8ac-b42bb5ed5b01"
      },
      "outputs": [
        {
          "name": "stdout",
          "output_type": "stream",
          "text": [
            "(150, 4) (150,)\n"
          ]
        }
      ],
      "source": [
        "# training과 test dataset 분리 (슬라이싱 값 수정)\n",
        "X = dataset.iloc[0:, 1:-1].values    # 뒤에서 하나를 뺀 값을 가져와서 X에 저장\n",
        "y = dataset.iloc[:, 5].values        # 열은 앞에서 다섯 번째 값만 가져와서 y에 저장\n",
        "\n",
        "X.shape\n",
        "#X\n",
        "#y.shape\n",
        "#y\n",
        "#print(X)\n",
        "#print(y)\n",
        "print(X.shape, y.shape)"
      ]
    },
    {
      "cell_type": "markdown",
      "metadata": {
        "id": "rOGP-fuTNHD3"
      },
      "source": [
        "## training dataset : 80% / test dataset : 20%"
      ]
    },
    {
      "cell_type": "code",
      "execution_count": 208,
      "metadata": {
        "colab": {
          "base_uri": "https://localhost:8080/"
        },
        "id": "BeicPBq_Kj_D",
        "outputId": "29def738-5326-4604-bce3-577a8a8e2fc8"
      },
      "outputs": [
        {
          "data": {
            "text/plain": [
              "(30,)"
            ]
          },
          "execution_count": 208,
          "metadata": {},
          "output_type": "execute_result"
        }
      ],
      "source": [
        "#== 이 코드 블럭 전체를 빈칸으로 두고 다 쓰는게 시험에 나옴 (다 암기) ==#\n",
        "\n",
        "from sklearn.model_selection import train_test_split\n",
        "X_train, X_test, y_train, y_test = train_test_split(X, y, test_size=0.20)   # test dataset 20% 사용, train dataset은 자동으로 80%로 지정됨\n",
        "\n",
        "#X_train.shape\n",
        "#X_test.shape\n",
        "#y_train.shape\n",
        "y_test.shape\n"
      ]
    },
    {
      "cell_type": "code",
      "execution_count": 209,
      "metadata": {
        "colab": {
          "base_uri": "https://localhost:8080/"
        },
        "id": "llDQZn2WOK5c",
        "outputId": "55e40276-4054-46e4-9c5b-8f4f21914482"
      },
      "outputs": [
        {
          "data": {
            "text/plain": [
              "array([[-0.33750139, -0.81481068,  0.2057549 ,  0.0798425 ],\n",
              "       [ 0.62392691, -0.36935609,  0.26186987,  0.0798425 ],\n",
              "       [ 1.10464106, -0.59208338,  0.54244472,  0.20931682],\n",
              "       [-1.17875116,  0.07609849, -1.30934933, -1.47384939],\n",
              "       [-0.57785847,  0.74428037, -1.19711939, -1.34437507],\n",
              "       [ 0.2633913 , -0.59208338,  0.09352495,  0.0798425 ],\n",
              "       [ 2.06606936, -0.1466288 ,  1.55251421,  1.11563709],\n",
              "       [-0.33750139, -0.59208338,  0.5985597 ,  0.98616277],\n",
              "       [ 0.14321276, -1.92844714,  0.09352495, -0.30858047],\n",
              "       [-0.21732286, -0.36935609,  0.2057549 ,  0.0798425 ],\n",
              "       [ 0.14321276, -0.81481068,  0.71078964,  0.46826547],\n",
              "       [ 0.50374837,  0.52155308,  0.48632975,  0.46826547],\n",
              "       [-0.93839408,  1.63518954, -1.30934933, -1.21490074],\n",
              "       [-0.21732286, -0.1466288 ,  0.2057549 , -0.04963182],\n",
              "       [ 0.98446252, -0.1466288 ,  0.65467467,  0.5977398 ],\n",
              "       [-0.93839408, -1.26026526, -0.46762476, -0.17910615],\n",
              "       [-1.29892969, -0.1466288 , -1.3654643 , -1.21490074],\n",
              "       [-1.17875116,  0.07609849, -1.30934933, -1.47384939],\n",
              "       [-1.29892969,  0.74428037, -1.25323436, -1.34437507],\n",
              "       [-0.81821554, -0.81481068,  0.03740998,  0.20931682],\n",
              "       [-1.77964385, -0.1466288 , -1.42157928, -1.34437507],\n",
              "       [-1.05857262,  0.29882578, -1.47769425, -1.34437507],\n",
              "       [ 1.2248196 ,  0.07609849,  0.87913455,  1.11563709],\n",
              "       [ 0.98446252,  0.07609849,  0.99136449,  1.50406007],\n",
              "       [-0.57785847,  1.85791683, -1.19711939, -1.08542642],\n",
              "       [ 0.2633913 , -0.59208338,  0.48632975, -0.04963182],\n",
              "       [ 0.74410545, -0.59208338,  0.43021478,  0.33879115],\n",
              "       [-0.45767993, -1.03753797,  0.31798484, -0.04963182],\n",
              "       [-1.53928677,  0.07609849, -1.30934933, -1.34437507],\n",
              "       [-1.05857262,  0.96700766, -1.42157928, -1.21490074]])"
            ]
          },
          "execution_count": 209,
          "metadata": {},
          "output_type": "execute_result"
        }
      ],
      "source": [
        "# Data Standardization(표준화) : Feature의 범위가 다른 경우에만 사용\n",
        "from sklearn.preprocessing import StandardScaler\n",
        "s = StandardScaler()   # 특성 스케일링(scaling), 평균이 0, 표준편차가 1이 되도록 변환\n",
        "s.fit(X_train, X_test)              ## 교과서를 변경한 부분\n",
        "\n",
        "X_train = s.transform(X_train)    # 훈련 데이터를 스케일링 처리\n",
        "X_test = s.transform(X_test)      # 테스트 데이터를 스케일링 처리\n",
        "\n",
        "#X_train\n",
        "X_test"
      ]
    },
    {
      "cell_type": "code",
      "execution_count": 210,
      "metadata": {
        "colab": {
          "base_uri": "https://localhost:8080/",
          "height": 74
        },
        "id": "BZGJiHaYQM7P",
        "outputId": "8aed354f-cac4-4524-abb7-75635cafabf9"
      },
      "outputs": [
        {
          "data": {
            "text/html": [
              "<style>#sk-container-id-28 {color: black;}#sk-container-id-28 pre{padding: 0;}#sk-container-id-28 div.sk-toggleable {background-color: white;}#sk-container-id-28 label.sk-toggleable__label {cursor: pointer;display: block;width: 100%;margin-bottom: 0;padding: 0.3em;box-sizing: border-box;text-align: center;}#sk-container-id-28 label.sk-toggleable__label-arrow:before {content: \"▸\";float: left;margin-right: 0.25em;color: #696969;}#sk-container-id-28 label.sk-toggleable__label-arrow:hover:before {color: black;}#sk-container-id-28 div.sk-estimator:hover label.sk-toggleable__label-arrow:before {color: black;}#sk-container-id-28 div.sk-toggleable__content {max-height: 0;max-width: 0;overflow: hidden;text-align: left;background-color: #f0f8ff;}#sk-container-id-28 div.sk-toggleable__content pre {margin: 0.2em;color: black;border-radius: 0.25em;background-color: #f0f8ff;}#sk-container-id-28 input.sk-toggleable__control:checked~div.sk-toggleable__content {max-height: 200px;max-width: 100%;overflow: auto;}#sk-container-id-28 input.sk-toggleable__control:checked~label.sk-toggleable__label-arrow:before {content: \"▾\";}#sk-container-id-28 div.sk-estimator input.sk-toggleable__control:checked~label.sk-toggleable__label {background-color: #d4ebff;}#sk-container-id-28 div.sk-label input.sk-toggleable__control:checked~label.sk-toggleable__label {background-color: #d4ebff;}#sk-container-id-28 input.sk-hidden--visually {border: 0;clip: rect(1px 1px 1px 1px);clip: rect(1px, 1px, 1px, 1px);height: 1px;margin: -1px;overflow: hidden;padding: 0;position: absolute;width: 1px;}#sk-container-id-28 div.sk-estimator {font-family: monospace;background-color: #f0f8ff;border: 1px dotted black;border-radius: 0.25em;box-sizing: border-box;margin-bottom: 0.5em;}#sk-container-id-28 div.sk-estimator:hover {background-color: #d4ebff;}#sk-container-id-28 div.sk-parallel-item::after {content: \"\";width: 100%;border-bottom: 1px solid gray;flex-grow: 1;}#sk-container-id-28 div.sk-label:hover label.sk-toggleable__label {background-color: #d4ebff;}#sk-container-id-28 div.sk-serial::before {content: \"\";position: absolute;border-left: 1px solid gray;box-sizing: border-box;top: 0;bottom: 0;left: 50%;z-index: 0;}#sk-container-id-28 div.sk-serial {display: flex;flex-direction: column;align-items: center;background-color: white;padding-right: 0.2em;padding-left: 0.2em;position: relative;}#sk-container-id-28 div.sk-item {position: relative;z-index: 1;}#sk-container-id-28 div.sk-parallel {display: flex;align-items: stretch;justify-content: center;background-color: white;position: relative;}#sk-container-id-28 div.sk-item::before, #sk-container-id-28 div.sk-parallel-item::before {content: \"\";position: absolute;border-left: 1px solid gray;box-sizing: border-box;top: 0;bottom: 0;left: 50%;z-index: -1;}#sk-container-id-28 div.sk-parallel-item {display: flex;flex-direction: column;z-index: 1;position: relative;background-color: white;}#sk-container-id-28 div.sk-parallel-item:first-child::after {align-self: flex-end;width: 50%;}#sk-container-id-28 div.sk-parallel-item:last-child::after {align-self: flex-start;width: 50%;}#sk-container-id-28 div.sk-parallel-item:only-child::after {width: 0;}#sk-container-id-28 div.sk-dashed-wrapped {border: 1px dashed gray;margin: 0 0.4em 0.5em 0.4em;box-sizing: border-box;padding-bottom: 0.4em;background-color: white;}#sk-container-id-28 div.sk-label label {font-family: monospace;font-weight: bold;display: inline-block;line-height: 1.2em;}#sk-container-id-28 div.sk-label-container {text-align: center;}#sk-container-id-28 div.sk-container {/* jupyter's `normalize.less` sets `[hidden] { display: none; }` but bootstrap.min.css set `[hidden] { display: none !important; }` so we also need the `!important` here to be able to override the default hidden behavior on the sphinx rendered scikit-learn.org. See: https://github.com/scikit-learn/scikit-learn/issues/21755 */display: inline-block !important;position: relative;}#sk-container-id-28 div.sk-text-repr-fallback {display: none;}</style><div id=\"sk-container-id-28\" class=\"sk-top-container\"><div class=\"sk-text-repr-fallback\"><pre>KNeighborsClassifier(n_neighbors=50)</pre><b>In a Jupyter environment, please rerun this cell to show the HTML representation or trust the notebook. <br />On GitHub, the HTML representation is unable to render, please try loading this page with nbviewer.org.</b></div><div class=\"sk-container\" hidden><div class=\"sk-item\"><div class=\"sk-estimator sk-toggleable\"><input class=\"sk-toggleable__control sk-hidden--visually\" id=\"sk-estimator-id-28\" type=\"checkbox\" checked><label for=\"sk-estimator-id-28\" class=\"sk-toggleable__label sk-toggleable__label-arrow\">KNeighborsClassifier</label><div class=\"sk-toggleable__content\"><pre>KNeighborsClassifier(n_neighbors=50)</pre></div></div></div></div></div>"
            ],
            "text/plain": [
              "KNeighborsClassifier(n_neighbors=50)"
            ]
          },
          "execution_count": 210,
          "metadata": {},
          "output_type": "execute_result"
        }
      ],
      "source": [
        "# create model (KNN)\n",
        "from sklearn.neighbors import KNeighborsClassifier\n",
        "\n",
        "# instance가 150개 인데 k가 50개인 것은 너무 큼 -> 그래서 10~30 사이의 값으로 테스트 해보기\n",
        "knn = KNeighborsClassifier(n_neighbors=50)      # K의 값 : 3,5,7,9,11,13,15,17,19...,49\n",
        "#y_train = y_train.astype(int)    # fix type error\n",
        "knn.fit(X_train, y_train)"
      ]
    },
    {
      "cell_type": "code",
      "execution_count": 211,
      "metadata": {
        "colab": {
          "base_uri": "https://localhost:8080/"
        },
        "id": "5wcL7yURndlg",
        "outputId": "2b8ca844-c284-4f2c-fbfa-9ea8a105a787"
      },
      "outputs": [
        {
          "name": "stdout",
          "output_type": "stream",
          "text": [
            "Accuracy: 0.8666666666666667\n"
          ]
        }
      ],
      "source": [
        "# model accuracy\n",
        "from sklearn import metrics\n",
        "y_pred = knn.predict(X_test)\n",
        "#y_tset = y_test.astype(int)\n",
        "print(\"Accuracy: {}\".format(metrics.accuracy_score(y_test, y_pred)))"
      ]
    },
    {
      "cell_type": "code",
      "execution_count": 212,
      "metadata": {
        "colab": {
          "base_uri": "https://localhost:8080/"
        },
        "id": "aLsDwcbqn48v",
        "outputId": "d4c1ee7b-89e9-4053-baaa-2c56cf28b4f2"
      },
      "outputs": [
        {
          "name": "stdout",
          "output_type": "stream",
          "text": [
            "Accuracy is 0.8666666666666667 for K-Value: 0\n"
          ]
        }
      ],
      "source": [
        "#########################################\n",
        "k = 10\n",
        "acc_array = np.zeros(k)\n",
        "for k in np.arange(1, k+1, 1):\n",
        "    classifier = KNeighborsClassifier(n_neighbors=k).fit(X_train, y_train)\n",
        "    y_pred = knn.predict(X_test)\n",
        "    acc = metrics.accuracy_score(y_test, y_pred)\n",
        "    acc_array[k-1] = acc\n",
        "\n",
        "max_acc = np.amax(acc_array)\n",
        "acc_list = list(acc_array)\n",
        "k = acc_list.index(max_acc)\n",
        "print(\"Accuracy is\", metrics.accuracy_score(y_test, y_pred), \"for K-Value:\", k)"
      ]
    }
  ],
  "metadata": {
    "colab": {
      "provenance": []
    },
    "kernelspec": {
      "display_name": "Python 3",
      "name": "python3"
    },
    "language_info": {
      "name": "python"
    }
  },
  "nbformat": 4,
  "nbformat_minor": 0
}
